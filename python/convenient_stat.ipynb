{
 "cells": [
  {
   "cell_type": "code",
   "execution_count": 1,
   "metadata": {},
   "outputs": [],
   "source": [
    "%matplotlib inline\n",
    "import pandas as pd\n",
    "import matplotlib as plt"
   ]
  },
  {
   "cell_type": "code",
   "execution_count": 2,
   "metadata": {},
   "outputs": [],
   "source": [
    "##1. csv 파일 불러오기 (convenient_store.csv)\n",
    "constore = pd.read_csv('convenient_store.csv')"
   ]
  },
  {
   "cell_type": "code",
   "execution_count": 3,
   "metadata": {},
   "outputs": [
    {
     "name": "stdout",
     "output_type": "stream",
     "text": [
      "<class 'pandas.core.frame.DataFrame'>\n",
      "RangeIndex: 177 entries, 0 to 176\n",
      "Data columns (total 7 columns):\n",
      " #   Column       Non-Null Count  Dtype \n",
      "---  ------       --------------  ----- \n",
      " 0   area         177 non-null    object\n",
      " 1   company      177 non-null    object\n",
      " 2   hourly_wage  177 non-null    int64 \n",
      " 3   area1        177 non-null    object\n",
      " 4   area2        177 non-null    object\n",
      " 5   outlier      177 non-null    int64 \n",
      " 6   name         177 non-null    object\n",
      "dtypes: int64(2), object(5)\n",
      "memory usage: 9.8+ KB\n"
     ]
    }
   ],
   "source": [
    "##2. 전체 컬럼 정보, null 값 유무 확인\n",
    "constore.info()"
   ]
  },
  {
   "cell_type": "code",
   "execution_count": 19,
   "metadata": {},
   "outputs": [
    {
     "data": {
      "text/plain": [
       "hourly_wage    5787.627119\n",
       "outlier           0.000000\n",
       "dtype: float64"
      ]
     },
     "execution_count": 19,
     "metadata": {},
     "output_type": "execute_result"
    }
   ],
   "source": [
    "##3. 개수, 평균, 편차, 최소, 최대값 확인\n",
    "# 평균\n",
    "constore.mean()"
   ]
  },
  {
   "cell_type": "code",
   "execution_count": 20,
   "metadata": {},
   "outputs": [
    {
     "data": {
      "text/plain": [
       "area           177\n",
       "company        177\n",
       "hourly_wage    177\n",
       "area1          177\n",
       "area2          177\n",
       "outlier        177\n",
       "name           177\n",
       "dtype: int64"
      ]
     },
     "execution_count": 20,
     "metadata": {},
     "output_type": "execute_result"
    }
   ],
   "source": [
    "# 개수\n",
    "constore.count()"
   ]
  },
  {
   "cell_type": "code",
   "execution_count": 54,
   "metadata": {},
   "outputs": [
    {
     "data": {
      "text/plain": [
       "hourly_wage       352.318646\n",
       "outlier             0.000000\n",
       "more_than_6000      0.442871\n",
       "dtype: float64"
      ]
     },
     "execution_count": 54,
     "metadata": {},
     "output_type": "execute_result"
    }
   ],
   "source": [
    "# 편차\n",
    "constore.std()"
   ]
  },
  {
   "cell_type": "code",
   "execution_count": 21,
   "metadata": {},
   "outputs": [
    {
     "data": {
      "text/plain": [
       "area                          강남구 논현1동\n",
       "company        BGF Retail CU 신촌세브란스병원점\n",
       "hourly_wage                       5580\n",
       "area1                              강남구\n",
       "area2                              가산동\n",
       "outlier                              0\n",
       "name                              7/11\n",
       "dtype: object"
      ]
     },
     "execution_count": 21,
     "metadata": {},
     "output_type": "execute_result"
    }
   ],
   "source": [
    "# 최소값\n",
    "constore.min()"
   ]
  },
  {
   "cell_type": "code",
   "execution_count": 22,
   "metadata": {},
   "outputs": [
    {
     "data": {
      "text/plain": [
       "area                        중랑구 신내1동\n",
       "company        편의점/ 세븐일레븐 압구정 리갈펠리스점\n",
       "hourly_wage                     7500\n",
       "area1                            중랑구\n",
       "area2                            화곡동\n",
       "outlier                            0\n",
       "name                            gs25\n",
       "dtype: object"
      ]
     },
     "execution_count": 22,
     "metadata": {},
     "output_type": "execute_result"
    }
   ],
   "source": [
    "# 최대값\n",
    "constore.max()"
   ]
  },
  {
   "cell_type": "code",
   "execution_count": 31,
   "metadata": {},
   "outputs": [
    {
     "data": {
      "text/plain": [
       "강남구     21\n",
       "마포구     13\n",
       "중구      12\n",
       "송파구     11\n",
       "종로구     11\n",
       "영등포구    10\n",
       "구로구      9\n",
       "성동구      9\n",
       "강서구      9\n",
       "광진구      8\n",
       "성북구      8\n",
       "서대문구     7\n",
       "서초구      7\n",
       "은평구      7\n",
       "관악구      6\n",
       "용산구      5\n",
       "노원구      5\n",
       "동대문구     4\n",
       "양천구      3\n",
       "동작구      3\n",
       "금천구      3\n",
       "중랑구      2\n",
       "강북구      2\n",
       "강동구      1\n",
       "도봉구      1\n",
       "Name: area1, dtype: int64"
      ]
     },
     "execution_count": 31,
     "metadata": {},
     "output_type": "execute_result"
    }
   ],
   "source": [
    "##4. 지역에 대한 통계, 개수, 유니크한 정보, 제일 빈도가 높은 지역\n",
    "# area1 에 대한 통계 및 개수\n",
    "constore['area1'].value_counts()"
   ]
  },
  {
   "cell_type": "code",
   "execution_count": 33,
   "metadata": {},
   "outputs": [
    {
     "data": {
      "text/plain": [
       "25"
      ]
     },
     "execution_count": 33,
     "metadata": {},
     "output_type": "execute_result"
    }
   ],
   "source": [
    "# 유니크한 지역의 개수\n",
    "constore['area1'].nunique()"
   ]
  },
  {
   "cell_type": "code",
   "execution_count": 38,
   "metadata": {},
   "outputs": [
    {
     "data": {
      "text/plain": [
       "139    중랑구\n",
       "140    중랑구\n",
       "Name: area1, dtype: object"
      ]
     },
     "execution_count": 38,
     "metadata": {},
     "output_type": "execute_result"
    }
   ],
   "source": [
    "# 제일 빈도가 높은 지역\n",
    "constore[constore['area1'] == constore['area1'].max()]['area1']"
   ]
  },
  {
   "cell_type": "code",
   "execution_count": 64,
   "metadata": {},
   "outputs": [
    {
     "data": {
      "text/plain": [
       "29           세븐일레븐편의점\n",
       "30        세븐일레븐 청담그린점\n",
       "37       세븐일레븐 서울호서대점\n",
       "53       세븐일레븐 구로리공원점\n",
       "60              세븐일레븐\n",
       "72        세븐일레븐 마포홍익점\n",
       "89     세븐일레븐 한양대학교병원점\n",
       "135             세븐일레븐\n",
       "137         세븐일레븐 북창점\n",
       "145          CUBE pc방\n",
       "Name: company, dtype: object"
      ]
     },
     "execution_count": 64,
     "metadata": {},
     "output_type": "execute_result"
    }
   ],
   "source": [
    "##5. 시간 당 급여가 6500원 이상인 지역의 편의점 정보 출력 (상위 10개만)\n",
    "constore[constore['hourly_wage'] >= 6500]['company'].head(10)"
   ]
  },
  {
   "cell_type": "code",
   "execution_count": 63,
   "metadata": {},
   "outputs": [
    {
     "data": {
      "text/plain": [
       "29     7500\n",
       "173    7500\n",
       "160    6900\n",
       "135    6690\n",
       "37     6600\n",
       "172    6600\n",
       "137    6500\n",
       "161    6500\n",
       "53     6500\n",
       "145    6500\n",
       "Name: hourly_wage, dtype: int64"
      ]
     },
     "execution_count": 63,
     "metadata": {},
     "output_type": "execute_result"
    }
   ],
   "source": [
    "##6. 시간 당 급여가 높은 순서로 정렬 (sort_value() 함수 사용, 상위 10개만 출력)\n",
    "constore['hourly_wage'].sort_values(ascending=False).head(10)"
   ]
  },
  {
   "cell_type": "code",
   "execution_count": 44,
   "metadata": {},
   "outputs": [
    {
     "data": {
      "text/plain": [
       "13              gs25\n",
       "106       세븐일레븐 여의역점\n",
       "107    세븐일레븐 영등포 2호점\n",
       "Name: company, dtype: object"
      ]
     },
     "execution_count": 44,
     "metadata": {},
     "output_type": "execute_result"
    }
   ],
   "source": [
    "##7. 영등포구에서 시간 당 급여가 6000원 이상인 편의점 검색\n",
    "constore[(constore['area1']=='영등포구') & (constore['hourly_wage'] >= 6000)]['company']"
   ]
  },
  {
   "cell_type": "code",
   "execution_count": 45,
   "metadata": {},
   "outputs": [
    {
     "data": {
      "text/html": [
       "<div>\n",
       "<style scoped>\n",
       "    .dataframe tbody tr th:only-of-type {\n",
       "        vertical-align: middle;\n",
       "    }\n",
       "\n",
       "    .dataframe tbody tr th {\n",
       "        vertical-align: top;\n",
       "    }\n",
       "\n",
       "    .dataframe thead th {\n",
       "        text-align: right;\n",
       "    }\n",
       "</style>\n",
       "<table border=\"1\" class=\"dataframe\">\n",
       "  <thead>\n",
       "    <tr style=\"text-align: right;\">\n",
       "      <th></th>\n",
       "      <th>area</th>\n",
       "      <th>company</th>\n",
       "      <th>hourly_wage</th>\n",
       "      <th>area1</th>\n",
       "      <th>area2</th>\n",
       "      <th>outlier</th>\n",
       "      <th>name</th>\n",
       "    </tr>\n",
       "  </thead>\n",
       "  <tbody>\n",
       "    <tr>\n",
       "      <th>141</th>\n",
       "      <td>강남구 논현동</td>\n",
       "      <td>CU 논현힐탑점</td>\n",
       "      <td>5600</td>\n",
       "      <td>강남구</td>\n",
       "      <td>논현동</td>\n",
       "      <td>0</td>\n",
       "      <td>CU</td>\n",
       "    </tr>\n",
       "    <tr>\n",
       "      <th>142</th>\n",
       "      <td>강남구 논현동</td>\n",
       "      <td>CU논현한미점</td>\n",
       "      <td>6000</td>\n",
       "      <td>강남구</td>\n",
       "      <td>논현동</td>\n",
       "      <td>0</td>\n",
       "      <td>CU</td>\n",
       "    </tr>\n",
       "    <tr>\n",
       "      <th>143</th>\n",
       "      <td>강남구 신사동</td>\n",
       "      <td>CU 로데오점</td>\n",
       "      <td>6100</td>\n",
       "      <td>강남구</td>\n",
       "      <td>신사동</td>\n",
       "      <td>0</td>\n",
       "      <td>CU</td>\n",
       "    </tr>\n",
       "    <tr>\n",
       "      <th>144</th>\n",
       "      <td>강남구 대치4동</td>\n",
       "      <td>CU 대치본점</td>\n",
       "      <td>6000</td>\n",
       "      <td>강남구</td>\n",
       "      <td>대치4동</td>\n",
       "      <td>0</td>\n",
       "      <td>CU</td>\n",
       "    </tr>\n",
       "    <tr>\n",
       "      <th>145</th>\n",
       "      <td>강남구 논현1동</td>\n",
       "      <td>CUBE pc방</td>\n",
       "      <td>6500</td>\n",
       "      <td>강남구</td>\n",
       "      <td>논현1동</td>\n",
       "      <td>0</td>\n",
       "      <td>CU</td>\n",
       "    </tr>\n",
       "    <tr>\n",
       "      <th>146</th>\n",
       "      <td>강북구 수유3동</td>\n",
       "      <td>CU수유중앙점</td>\n",
       "      <td>5600</td>\n",
       "      <td>강북구</td>\n",
       "      <td>수유3동</td>\n",
       "      <td>0</td>\n",
       "      <td>CU</td>\n",
       "    </tr>\n",
       "    <tr>\n",
       "      <th>147</th>\n",
       "      <td>강서구 방화동</td>\n",
       "      <td>CU방화오피스점</td>\n",
       "      <td>6000</td>\n",
       "      <td>강서구</td>\n",
       "      <td>방화동</td>\n",
       "      <td>0</td>\n",
       "      <td>CU</td>\n",
       "    </tr>\n",
       "    <tr>\n",
       "      <th>148</th>\n",
       "      <td>관악구 신원동</td>\n",
       "      <td>CU신림인석점</td>\n",
       "      <td>5580</td>\n",
       "      <td>관악구</td>\n",
       "      <td>신원동</td>\n",
       "      <td>0</td>\n",
       "      <td>CU</td>\n",
       "    </tr>\n",
       "    <tr>\n",
       "      <th>149</th>\n",
       "      <td>관악구 봉천동</td>\n",
       "      <td>CU관악상상점</td>\n",
       "      <td>5580</td>\n",
       "      <td>관악구</td>\n",
       "      <td>봉천동</td>\n",
       "      <td>0</td>\n",
       "      <td>CU</td>\n",
       "    </tr>\n",
       "    <tr>\n",
       "      <th>150</th>\n",
       "      <td>구로구 구로동</td>\n",
       "      <td>CU편의점(고대구로병원1호점)</td>\n",
       "      <td>5580</td>\n",
       "      <td>구로구</td>\n",
       "      <td>구로동</td>\n",
       "      <td>0</td>\n",
       "      <td>CU</td>\n",
       "    </tr>\n",
       "  </tbody>\n",
       "</table>\n",
       "</div>"
      ],
      "text/plain": [
       "         area           company  hourly_wage area1 area2  outlier name\n",
       "141   강남구 논현동          CU 논현힐탑점         5600   강남구   논현동        0   CU\n",
       "142   강남구 논현동           CU논현한미점         6000   강남구   논현동        0   CU\n",
       "143   강남구 신사동           CU 로데오점         6100   강남구   신사동        0   CU\n",
       "144  강남구 대치4동           CU 대치본점         6000   강남구  대치4동        0   CU\n",
       "145  강남구 논현1동          CUBE pc방         6500   강남구  논현1동        0   CU\n",
       "146  강북구 수유3동           CU수유중앙점         5600   강북구  수유3동        0   CU\n",
       "147   강서구 방화동          CU방화오피스점         6000   강서구   방화동        0   CU\n",
       "148   관악구 신원동           CU신림인석점         5580   관악구   신원동        0   CU\n",
       "149   관악구 봉천동           CU관악상상점         5580   관악구   봉천동        0   CU\n",
       "150   구로구 구로동  CU편의점(고대구로병원1호점)         5580   구로구   구로동        0   CU"
      ]
     },
     "execution_count": 45,
     "metadata": {},
     "output_type": "execute_result"
    }
   ],
   "source": [
    "##8. CU 편이점만 출력 (상위 10개만)\n",
    "constore[constore['name']=='CU'].head(10)"
   ]
  },
  {
   "cell_type": "code",
   "execution_count": 46,
   "metadata": {},
   "outputs": [],
   "source": [
    "##9. 지역 컬럼(location)을 추가한 다음, in Seoul 이라는 값 저장, 상위 5개 출력\n",
    "constore['location'] = 'in Seooul'"
   ]
  },
  {
   "cell_type": "code",
   "execution_count": 47,
   "metadata": {
    "scrolled": false
   },
   "outputs": [
    {
     "data": {
      "text/html": [
       "<div>\n",
       "<style scoped>\n",
       "    .dataframe tbody tr th:only-of-type {\n",
       "        vertical-align: middle;\n",
       "    }\n",
       "\n",
       "    .dataframe tbody tr th {\n",
       "        vertical-align: top;\n",
       "    }\n",
       "\n",
       "    .dataframe thead th {\n",
       "        text-align: right;\n",
       "    }\n",
       "</style>\n",
       "<table border=\"1\" class=\"dataframe\">\n",
       "  <thead>\n",
       "    <tr style=\"text-align: right;\">\n",
       "      <th></th>\n",
       "      <th>area</th>\n",
       "      <th>company</th>\n",
       "      <th>hourly_wage</th>\n",
       "      <th>area1</th>\n",
       "      <th>area2</th>\n",
       "      <th>outlier</th>\n",
       "      <th>name</th>\n",
       "      <th>location</th>\n",
       "    </tr>\n",
       "  </thead>\n",
       "  <tbody>\n",
       "    <tr>\n",
       "      <th>0</th>\n",
       "      <td>강남구 삼성동</td>\n",
       "      <td>gs25 오크우드점</td>\n",
       "      <td>5600</td>\n",
       "      <td>강남구</td>\n",
       "      <td>삼성동</td>\n",
       "      <td>0</td>\n",
       "      <td>gs25</td>\n",
       "      <td>in Seooul</td>\n",
       "    </tr>\n",
       "    <tr>\n",
       "      <th>1</th>\n",
       "      <td>강남구 삼성동</td>\n",
       "      <td>gs25 코엑스점</td>\n",
       "      <td>5700</td>\n",
       "      <td>강남구</td>\n",
       "      <td>삼성동</td>\n",
       "      <td>0</td>\n",
       "      <td>gs25</td>\n",
       "      <td>in Seooul</td>\n",
       "    </tr>\n",
       "    <tr>\n",
       "      <th>2</th>\n",
       "      <td>강서구 화곡동</td>\n",
       "      <td>gs25편의점</td>\n",
       "      <td>5600</td>\n",
       "      <td>강서구</td>\n",
       "      <td>화곡동</td>\n",
       "      <td>0</td>\n",
       "      <td>gs25</td>\n",
       "      <td>in Seooul</td>\n",
       "    </tr>\n",
       "    <tr>\n",
       "      <th>3</th>\n",
       "      <td>광진구 군자동</td>\n",
       "      <td>gs25</td>\n",
       "      <td>5580</td>\n",
       "      <td>광진구</td>\n",
       "      <td>군자동</td>\n",
       "      <td>0</td>\n",
       "      <td>gs25</td>\n",
       "      <td>in Seooul</td>\n",
       "    </tr>\n",
       "    <tr>\n",
       "      <th>4</th>\n",
       "      <td>광진구 중곡동</td>\n",
       "      <td>gs25중곡대원점</td>\n",
       "      <td>5580</td>\n",
       "      <td>광진구</td>\n",
       "      <td>중곡동</td>\n",
       "      <td>0</td>\n",
       "      <td>gs25</td>\n",
       "      <td>in Seooul</td>\n",
       "    </tr>\n",
       "    <tr>\n",
       "      <th>5</th>\n",
       "      <td>구로구 구로동</td>\n",
       "      <td>gs25구로동양점</td>\n",
       "      <td>6000</td>\n",
       "      <td>구로구</td>\n",
       "      <td>구로동</td>\n",
       "      <td>0</td>\n",
       "      <td>gs25</td>\n",
       "      <td>in Seooul</td>\n",
       "    </tr>\n",
       "    <tr>\n",
       "      <th>6</th>\n",
       "      <td>구로구 구로동</td>\n",
       "      <td>gs25구로동양점</td>\n",
       "      <td>5580</td>\n",
       "      <td>구로구</td>\n",
       "      <td>구로동</td>\n",
       "      <td>0</td>\n",
       "      <td>gs25</td>\n",
       "      <td>in Seooul</td>\n",
       "    </tr>\n",
       "    <tr>\n",
       "      <th>7</th>\n",
       "      <td>동대문구 장안동</td>\n",
       "      <td>gs25장안중앙점</td>\n",
       "      <td>5600</td>\n",
       "      <td>동대문구</td>\n",
       "      <td>장안동</td>\n",
       "      <td>0</td>\n",
       "      <td>gs25</td>\n",
       "      <td>in Seooul</td>\n",
       "    </tr>\n",
       "    <tr>\n",
       "      <th>8</th>\n",
       "      <td>마포구 서교동</td>\n",
       "      <td>gs25 홍대아트점</td>\n",
       "      <td>5600</td>\n",
       "      <td>마포구</td>\n",
       "      <td>서교동</td>\n",
       "      <td>0</td>\n",
       "      <td>gs25</td>\n",
       "      <td>in Seooul</td>\n",
       "    </tr>\n",
       "    <tr>\n",
       "      <th>9</th>\n",
       "      <td>성동구 금호동4</td>\n",
       "      <td>gs25 서울숲푸르지오점</td>\n",
       "      <td>6000</td>\n",
       "      <td>성동구</td>\n",
       "      <td>금호동4</td>\n",
       "      <td>0</td>\n",
       "      <td>gs25</td>\n",
       "      <td>in Seooul</td>\n",
       "    </tr>\n",
       "  </tbody>\n",
       "</table>\n",
       "</div>"
      ],
      "text/plain": [
       "       area        company  hourly_wage area1 area2  outlier  name   location\n",
       "0   강남구 삼성동     gs25 오크우드점         5600   강남구   삼성동        0  gs25  in Seooul\n",
       "1   강남구 삼성동      gs25 코엑스점         5700   강남구   삼성동        0  gs25  in Seooul\n",
       "2   강서구 화곡동        gs25편의점         5600   강서구   화곡동        0  gs25  in Seooul\n",
       "3   광진구 군자동           gs25         5580   광진구   군자동        0  gs25  in Seooul\n",
       "4   광진구 중곡동      gs25중곡대원점         5580   광진구   중곡동        0  gs25  in Seooul\n",
       "5   구로구 구로동      gs25구로동양점         6000   구로구   구로동        0  gs25  in Seooul\n",
       "6   구로구 구로동      gs25구로동양점         5580   구로구   구로동        0  gs25  in Seooul\n",
       "7  동대문구 장안동      gs25장안중앙점         5600  동대문구   장안동        0  gs25  in Seooul\n",
       "8   마포구 서교동     gs25 홍대아트점         5600   마포구   서교동        0  gs25  in Seooul\n",
       "9  성동구 금호동4  gs25 서울숲푸르지오점         6000   성동구  금호동4        0  gs25  in Seooul"
      ]
     },
     "execution_count": 47,
     "metadata": {},
     "output_type": "execute_result"
    }
   ],
   "source": [
    "constore.head(10)"
   ]
  },
  {
   "cell_type": "code",
   "execution_count": 50,
   "metadata": {},
   "outputs": [
    {
     "data": {
      "text/plain": [
       "0     False\n",
       "1     False\n",
       "2     False\n",
       "3     False\n",
       "4     False\n",
       "5      True\n",
       "6     False\n",
       "7     False\n",
       "8     False\n",
       "9      True\n",
       "10    False\n",
       "11    False\n",
       "12    False\n",
       "13     True\n",
       "14    False\n",
       "15    False\n",
       "16    False\n",
       "17    False\n",
       "18     True\n",
       "19    False\n",
       "Name: more_than_6000, dtype: bool"
      ]
     },
     "execution_count": 50,
     "metadata": {},
     "output_type": "execute_result"
    }
   ],
   "source": [
    "##10. 6000원 이상 컬럼 추가(more_than_6000) -> True, False 값 저장 (상위 20개 출력)\n",
    "constore['more_than_6000'] = (constore['hourly_wage']>=6000)\n",
    "constore['more_than_6000'].head(20)"
   ]
  },
  {
   "cell_type": "code",
   "execution_count": 51,
   "metadata": {},
   "outputs": [
    {
     "data": {
      "text/plain": [
       "hourly_wage       6275.531915\n",
       "outlier              0.000000\n",
       "more_than_6000       1.000000\n",
       "dtype: float64"
      ]
     },
     "execution_count": 51,
     "metadata": {},
     "output_type": "execute_result"
    }
   ],
   "source": [
    "##11. more_than_6000 컬럼에서 True인 데이터들의 평균, 개수, 편차 등의 정보 출력\n",
    "# 평균\n",
    "constore[constore['more_than_6000']==True].mean()"
   ]
  },
  {
   "cell_type": "code",
   "execution_count": 52,
   "metadata": {},
   "outputs": [
    {
     "data": {
      "text/plain": [
       "area              47\n",
       "company           47\n",
       "hourly_wage       47\n",
       "area1             47\n",
       "area2             47\n",
       "outlier           47\n",
       "name              47\n",
       "location          47\n",
       "more_than_6000    47\n",
       "dtype: int64"
      ]
     },
     "execution_count": 52,
     "metadata": {},
     "output_type": "execute_result"
    }
   ],
   "source": [
    "# 개수\n",
    "constore[constore['more_than_6000']==True].count()"
   ]
  },
  {
   "cell_type": "code",
   "execution_count": 53,
   "metadata": {},
   "outputs": [
    {
     "data": {
      "text/plain": [
       "hourly_wage       360.517795\n",
       "outlier             0.000000\n",
       "more_than_6000      0.000000\n",
       "dtype: float64"
      ]
     },
     "execution_count": 53,
     "metadata": {},
     "output_type": "execute_result"
    }
   ],
   "source": [
    "# 편차\n",
    "constore[constore['more_than_6000']==True].std()"
   ]
  },
  {
   "cell_type": "code",
   "execution_count": 83,
   "metadata": {},
   "outputs": [
    {
     "ename": "SyntaxError",
     "evalue": "invalid syntax (<ipython-input-83-8ad4d7ae5035>, line 8)",
     "output_type": "error",
     "traceback": [
      "\u001b[1;36m  File \u001b[1;32m\"<ipython-input-83-8ad4d7ae5035>\"\u001b[1;36m, line \u001b[1;32m8\u001b[0m\n\u001b[1;33m    def more_than_6000(x)\u001b[0m\n\u001b[1;37m                         ^\u001b[0m\n\u001b[1;31mSyntaxError\u001b[0m\u001b[1;31m:\u001b[0m invalid syntax\n"
     ]
    }
   ],
   "source": [
    "##12. more_than_6000 이름의 함수를 생성하고, \n",
    "#6000원이상인 경우 A group, 아니면 B group을 반환하는 함수 생성\n",
    "# def more_than_6000(title: str):\n",
    "#     if title>='6000':\n",
    "#         return constore.groupby['A']\n",
    "#     else:\n",
    "#         return constore.groupby['B']\n",
    "def more_than_6000(x)\n",
    "# 그냥 def more_than_6000(x) 라고만 해도 됨. '-> int'는 반환값의 타입을 의미\n",
    "    if x>=6000:\n",
    "        return 'A group'\n",
    "    else:\n",
    "        return 'B group'"
   ]
  },
  {
   "cell_type": "code",
   "execution_count": 85,
   "metadata": {},
   "outputs": [
    {
     "ename": "SyntaxError",
     "evalue": "unexpected EOF while parsing (<ipython-input-85-c5844dd83fb9>, line 2)",
     "output_type": "error",
     "traceback": [
      "\u001b[1;36m  File \u001b[1;32m\"<ipython-input-85-c5844dd83fb9>\"\u001b[1;36m, line \u001b[1;32m2\u001b[0m\n\u001b[1;33m    constore['more_than_6000_f'] = constore['hourly_wage'].apply(more_than_6000(constore['hourly_wage'])\u001b[0m\n\u001b[1;37m                                                                                                        ^\u001b[0m\n\u001b[1;31mSyntaxError\u001b[0m\u001b[1;31m:\u001b[0m unexpected EOF while parsing\n"
     ]
    }
   ],
   "source": [
    "##13. more_than_6000_f 컬럼 생성하고 more_than_6000 함수의 결과를 저장\n",
    "constore['more_than_6000_f'] = constore['hourly_wage'].apply(more_than_6000(constore['hourly_wage'])"
   ]
  },
  {
   "cell_type": "code",
   "execution_count": 38,
   "metadata": {},
   "outputs": [],
   "source": [
    "##14. 지금까지의 결과 상위 10개를 출력\n",
    "constore.head()"
   ]
  },
  {
   "cell_type": "code",
   "execution_count": 66,
   "metadata": {},
   "outputs": [
    {
     "ename": "NameError",
     "evalue": "name 'constore2' is not defined",
     "output_type": "error",
     "traceback": [
      "\u001b[1;31m---------------------------------------------------------------------------\u001b[0m",
      "\u001b[1;31mNameError\u001b[0m                                 Traceback (most recent call last)",
      "\u001b[1;32m<ipython-input-66-e93f26047234>\u001b[0m in \u001b[0;36m<module>\u001b[1;34m\u001b[0m\n\u001b[0;32m      1\u001b[0m \u001b[1;31m##15-1. more_than_6000가 True인 데이터의 지역과 시간당 급여를 가진 새로운 데이터프레임 생성(data2)\u001b[0m\u001b[1;33m\u001b[0m\u001b[1;33m\u001b[0m\u001b[1;33m\u001b[0m\u001b[0m\n\u001b[1;32m----> 2\u001b[1;33m \u001b[0mconstore2\u001b[0m\u001b[1;33m[\u001b[0m\u001b[1;34m'area'\u001b[0m\u001b[1;33m]\u001b[0m \u001b[1;33m=\u001b[0m \u001b[0mconstore\u001b[0m\u001b[1;33m[\u001b[0m\u001b[0mconstore\u001b[0m\u001b[1;33m[\u001b[0m\u001b[1;34m'more_than_6000'\u001b[0m\u001b[1;33m]\u001b[0m\u001b[1;33m==\u001b[0m\u001b[1;32mTrue\u001b[0m\u001b[1;33m]\u001b[0m\u001b[1;33m[\u001b[0m\u001b[1;34m'area1'\u001b[0m\u001b[1;33m]\u001b[0m\u001b[1;33m\u001b[0m\u001b[1;33m\u001b[0m\u001b[0m\n\u001b[0m\u001b[0;32m      3\u001b[0m \u001b[0mconstore2\u001b[0m\u001b[1;33m[\u001b[0m\u001b[1;34m'hourly_wage'\u001b[0m\u001b[1;33m]\u001b[0m \u001b[1;33m=\u001b[0m \u001b[0mconstore\u001b[0m\u001b[1;33m[\u001b[0m\u001b[0mconstore\u001b[0m\u001b[1;33m[\u001b[0m\u001b[1;34m'more_than_6000'\u001b[0m\u001b[1;33m]\u001b[0m\u001b[1;33m==\u001b[0m\u001b[1;32mTrue\u001b[0m\u001b[1;33m]\u001b[0m\u001b[1;33m[\u001b[0m\u001b[1;34m'hourly_wage'\u001b[0m\u001b[1;33m]\u001b[0m\u001b[1;33m\u001b[0m\u001b[1;33m\u001b[0m\u001b[0m\n\u001b[0;32m      4\u001b[0m \u001b[1;31m##15-2. data2 데이터를 시간당 급여 순으로 정렬 (높은순)\u001b[0m\u001b[1;33m\u001b[0m\u001b[1;33m\u001b[0m\u001b[1;33m\u001b[0m\u001b[0m\n",
      "\u001b[1;31mNameError\u001b[0m: name 'constore2' is not defined"
     ]
    }
   ],
   "source": [
    "##15-1. more_than_6000가 True인 데이터의 지역과 시간당 급여를 가진 새로운 데이터프레임 생성(data2)\n",
    "constore2['area'] = constore[constore['more_than_6000']==True]['area1']\n",
    "constore2['hourly_wage'] = constore[constore['more_than_6000']==True]['hourly_wage']\n",
    "##15-2. data2 데이터를 시간당 급여 순으로 정렬 (높은순)"
   ]
  },
  {
   "cell_type": "code",
   "execution_count": 40,
   "metadata": {},
   "outputs": [],
   "source": [
    "##16. data2를 darta2.csv 파일로 저장"
   ]
  },
  {
   "cell_type": "code",
   "execution_count": 41,
   "metadata": {},
   "outputs": [],
   "source": [
    "##17. 시간당 급여를 histogram 으로 표시 (matplotlib hist() 사용)"
   ]
  },
  {
   "cell_type": "code",
   "execution_count": 42,
   "metadata": {},
   "outputs": [],
   "source": [
    "##18. 시간당 급여를 box 차트로 표시 "
   ]
  },
  {
   "cell_type": "code",
   "execution_count": 43,
   "metadata": {},
   "outputs": [],
   "source": [
    "##19. 시간당 급여를 box 차트로 표시(이름순으로)"
   ]
  },
  {
   "cell_type": "code",
   "execution_count": 44,
   "metadata": {},
   "outputs": [],
   "source": [
    "##19. 시간당 급여를 box 차트로 표시(지역순으로)"
   ]
  },
  {
   "cell_type": "markdown",
   "metadata": {},
   "source": [
    "### Font manager"
   ]
  },
  {
   "cell_type": "code",
   "execution_count": 73,
   "metadata": {},
   "outputs": [],
   "source": [
    "##20. 한글 표시되게 matplotlib 지정"
   ]
  },
  {
   "cell_type": "code",
   "execution_count": 74,
   "metadata": {},
   "outputs": [],
   "source": [
    "import matplotlib.font_manager as fm"
   ]
  },
  {
   "cell_type": "code",
   "execution_count": 75,
   "metadata": {},
   "outputs": [],
   "source": [
    "# 로컬에 저장된 font 종류와 위치 알아내기\n",
    "font_list = [(f.name, f.fname)for f in fm.fontManager.ttflist if 'Gothic' in f.name]\n",
    "# print(font_list)"
   ]
  },
  {
   "cell_type": "code",
   "execution_count": 77,
   "metadata": {},
   "outputs": [],
   "source": [
    "# font_name 얻기\n",
    "font_name = fm.FontProperties(fname='C:\\\\WINDOWS\\\\Fonts\\\\msgothic.ttc').get_name()\n",
    "# print(font_name)"
   ]
  },
  {
   "cell_type": "code",
   "execution_count": 46,
   "metadata": {},
   "outputs": [],
   "source": [
    "##21. 시간당 급여를 box 차트로 표시(지역순으로) <- 다시 실행"
   ]
  },
  {
   "cell_type": "code",
   "execution_count": 47,
   "metadata": {},
   "outputs": [],
   "source": [
    "##22-1. 지역구별 box 차트(플롯) \n",
    "##22-2. 폰트 사이즈 6"
   ]
  },
  {
   "cell_type": "code",
   "execution_count": 49,
   "metadata": {},
   "outputs": [],
   "source": [
    "##23-1. 지역구별 box 차트(플롯), 지역구가 세로로 표시\n",
    "##23-2. 폰트 사이즈 6"
   ]
  },
  {
   "cell_type": "code",
   "execution_count": null,
   "metadata": {},
   "outputs": [],
   "source": []
  }
 ],
 "metadata": {
  "kernelspec": {
   "display_name": "Python 3",
   "language": "python",
   "name": "python3"
  },
  "language_info": {
   "codemirror_mode": {
    "name": "ipython",
    "version": 3
   },
   "file_extension": ".py",
   "mimetype": "text/x-python",
   "name": "python",
   "nbconvert_exporter": "python",
   "pygments_lexer": "ipython3",
   "version": "3.8.5"
  }
 },
 "nbformat": 4,
 "nbformat_minor": 2
}
